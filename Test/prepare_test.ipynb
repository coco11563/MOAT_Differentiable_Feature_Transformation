{
 "cells": [
  {
   "cell_type": "code",
   "execution_count": 1,
   "outputs": [],
   "source": [
    "import pandas"
   ],
   "metadata": {
    "collapsed": false,
    "pycharm": {
     "name": "#%%\n"
    }
   }
  },
  {
   "cell_type": "code",
   "execution_count": 3,
   "outputs": [],
   "source": [
    "import os,sys"
   ],
   "metadata": {
    "collapsed": false,
    "pycharm": {
     "name": "#%%\n"
    }
   }
  },
  {
   "cell_type": "code",
   "execution_count": 6,
   "outputs": [],
   "source": [
    "file = os.listdir('/home/xiaomeng/jupyter_base/AutoFT/data/generated_dataset/')"
   ],
   "metadata": {
    "collapsed": false,
    "pycharm": {
     "name": "#%%\n"
    }
   }
  },
  {
   "cell_type": "code",
   "execution_count": 15,
   "outputs": [],
   "source": [
    "for f in file:\n",
    "\tif f.__contains__('.hdf'):\n",
    "\t\tdata = pandas.read_hdf('/home/xiaomeng/jupyter_base/AutoFT/data/generated_dataset/' + f)\n",
    "\t\tname = f.split('-')[2]\n",
    "\t\tdata.to_hdf(f'/home/xiaomeng/jupyter_base/AutoFT/data/generated_dataset/{name}.hdf', key='data')"
   ],
   "metadata": {
    "collapsed": false,
    "pycharm": {
     "name": "#%%\n"
    }
   }
  },
  {
   "cell_type": "code",
   "execution_count": 11,
   "outputs": [
    {
     "data": {
      "text/plain": "       0    1     2     3     4     5     6     7           8          9  ...  \\\n0    1.0  1.0   9.0   7.0   7.0   7.0   6.0   5.0  116.423002  37.522630  ...   \n1    1.0  1.0  46.0  46.0  44.0  39.0  34.0  21.0   21.316831   7.365466  ...   \n2    1.0  1.0  94.0  93.0  92.0  89.0  86.0  77.0    8.610822   1.981319  ...   \n3    1.0  1.0  55.0  55.0  55.0  55.0  53.0  42.0   22.539775  12.094326  ...   \n4    1.0  1.0   9.0   9.0   9.0   8.0   7.0   6.0   59.255463  22.681940  ...   \n..   ...  ...   ...   ...   ...   ...   ...   ...         ...        ...  ...   \n226  1.0  1.0   2.0   2.0   2.0   2.0   2.0   1.0  238.433432  28.817227  ...   \n227  1.0  1.0  31.0  31.0  29.0  27.0  27.0  19.0    5.410485   1.061003  ...   \n228  1.0  1.0  26.0  26.0  25.0  22.0  19.0  16.0    7.578417   1.916966  ...   \n229  1.0  1.0  54.0  53.0  51.0  45.0  43.0  29.0   49.958494  25.272318  ...   \n230  1.0  0.0  52.0  48.0  46.0  41.0  36.0  29.0    6.922057   3.188813  ...   \n\n     2 4 - sigmoid  2 5 - sigmoid  2 6 - sigmoid  2 8 - sigmoid  \\\n0         0.880797       0.880797       0.952574   2.222199e-47   \n1         0.880797       0.999089       0.999994   1.000000e+00   \n2         0.880797       0.993307       0.999665   1.000000e+00   \n3         0.500000       0.500000       0.880797   1.000000e+00   \n4         0.500000       0.731059       0.880797   1.493928e-22   \n..             ...            ...            ...            ...   \n226       0.500000       0.500000       0.500000  2.080967e-103   \n227       0.880797       0.982014       0.982014   1.000000e+00   \n228       0.731059       0.982014       0.999089   1.000000e+00   \n229       0.952574       0.999877       0.999983   9.827324e-01   \n230       0.997527       0.999983       1.000000   1.000000e+00   \n\n     2 12 - sigmoid  2 13 - sigmoid  2 17 - sigmoid  2 18 - sigmoid  \\\n0          0.999793        0.999834        0.999866        0.999877   \n1          1.000000        1.000000        1.000000        1.000000   \n2          1.000000        1.000000        1.000000        1.000000   \n3          1.000000        1.000000        1.000000        1.000000   \n4          0.999877        0.999877        0.999865        0.999877   \n..              ...             ...             ...             ...   \n226        0.880580        0.880580        0.870561        0.880797   \n227        1.000000        1.000000        1.000000        1.000000   \n228        1.000000        1.000000        1.000000        1.000000   \n229        1.000000        1.000000        1.000000        1.000000   \n230        1.000000        1.000000        1.000000        1.000000   \n\n     2 1 18 * - sigmoid  label  \n0          1.233946e-04    1.0  \n1          1.053062e-20    1.0  \n2          1.500786e-41    0.0  \n3          1.299581e-24    1.0  \n4          1.233946e-04    0.0  \n..                  ...    ...  \n226        1.192029e-01    0.0  \n227        3.442477e-14    0.0  \n228        5.109089e-12    1.0  \n229        3.532629e-24    0.0  \n230        7.310586e-01    1.0  \n\n[231 rows x 44 columns]",
      "text/html": "<div>\n<style scoped>\n    .dataframe tbody tr th:only-of-type {\n        vertical-align: middle;\n    }\n\n    .dataframe tbody tr th {\n        vertical-align: top;\n    }\n\n    .dataframe thead th {\n        text-align: right;\n    }\n</style>\n<table border=\"1\" class=\"dataframe\">\n  <thead>\n    <tr style=\"text-align: right;\">\n      <th></th>\n      <th>0</th>\n      <th>1</th>\n      <th>2</th>\n      <th>3</th>\n      <th>4</th>\n      <th>5</th>\n      <th>6</th>\n      <th>7</th>\n      <th>8</th>\n      <th>9</th>\n      <th>...</th>\n      <th>2 4 - sigmoid</th>\n      <th>2 5 - sigmoid</th>\n      <th>2 6 - sigmoid</th>\n      <th>2 8 - sigmoid</th>\n      <th>2 12 - sigmoid</th>\n      <th>2 13 - sigmoid</th>\n      <th>2 17 - sigmoid</th>\n      <th>2 18 - sigmoid</th>\n      <th>2 1 18 * - sigmoid</th>\n      <th>label</th>\n    </tr>\n  </thead>\n  <tbody>\n    <tr>\n      <th>0</th>\n      <td>1.0</td>\n      <td>1.0</td>\n      <td>9.0</td>\n      <td>7.0</td>\n      <td>7.0</td>\n      <td>7.0</td>\n      <td>6.0</td>\n      <td>5.0</td>\n      <td>116.423002</td>\n      <td>37.522630</td>\n      <td>...</td>\n      <td>0.880797</td>\n      <td>0.880797</td>\n      <td>0.952574</td>\n      <td>2.222199e-47</td>\n      <td>0.999793</td>\n      <td>0.999834</td>\n      <td>0.999866</td>\n      <td>0.999877</td>\n      <td>1.233946e-04</td>\n      <td>1.0</td>\n    </tr>\n    <tr>\n      <th>1</th>\n      <td>1.0</td>\n      <td>1.0</td>\n      <td>46.0</td>\n      <td>46.0</td>\n      <td>44.0</td>\n      <td>39.0</td>\n      <td>34.0</td>\n      <td>21.0</td>\n      <td>21.316831</td>\n      <td>7.365466</td>\n      <td>...</td>\n      <td>0.880797</td>\n      <td>0.999089</td>\n      <td>0.999994</td>\n      <td>1.000000e+00</td>\n      <td>1.000000</td>\n      <td>1.000000</td>\n      <td>1.000000</td>\n      <td>1.000000</td>\n      <td>1.053062e-20</td>\n      <td>1.0</td>\n    </tr>\n    <tr>\n      <th>2</th>\n      <td>1.0</td>\n      <td>1.0</td>\n      <td>94.0</td>\n      <td>93.0</td>\n      <td>92.0</td>\n      <td>89.0</td>\n      <td>86.0</td>\n      <td>77.0</td>\n      <td>8.610822</td>\n      <td>1.981319</td>\n      <td>...</td>\n      <td>0.880797</td>\n      <td>0.993307</td>\n      <td>0.999665</td>\n      <td>1.000000e+00</td>\n      <td>1.000000</td>\n      <td>1.000000</td>\n      <td>1.000000</td>\n      <td>1.000000</td>\n      <td>1.500786e-41</td>\n      <td>0.0</td>\n    </tr>\n    <tr>\n      <th>3</th>\n      <td>1.0</td>\n      <td>1.0</td>\n      <td>55.0</td>\n      <td>55.0</td>\n      <td>55.0</td>\n      <td>55.0</td>\n      <td>53.0</td>\n      <td>42.0</td>\n      <td>22.539775</td>\n      <td>12.094326</td>\n      <td>...</td>\n      <td>0.500000</td>\n      <td>0.500000</td>\n      <td>0.880797</td>\n      <td>1.000000e+00</td>\n      <td>1.000000</td>\n      <td>1.000000</td>\n      <td>1.000000</td>\n      <td>1.000000</td>\n      <td>1.299581e-24</td>\n      <td>1.0</td>\n    </tr>\n    <tr>\n      <th>4</th>\n      <td>1.0</td>\n      <td>1.0</td>\n      <td>9.0</td>\n      <td>9.0</td>\n      <td>9.0</td>\n      <td>8.0</td>\n      <td>7.0</td>\n      <td>6.0</td>\n      <td>59.255463</td>\n      <td>22.681940</td>\n      <td>...</td>\n      <td>0.500000</td>\n      <td>0.731059</td>\n      <td>0.880797</td>\n      <td>1.493928e-22</td>\n      <td>0.999877</td>\n      <td>0.999877</td>\n      <td>0.999865</td>\n      <td>0.999877</td>\n      <td>1.233946e-04</td>\n      <td>0.0</td>\n    </tr>\n    <tr>\n      <th>...</th>\n      <td>...</td>\n      <td>...</td>\n      <td>...</td>\n      <td>...</td>\n      <td>...</td>\n      <td>...</td>\n      <td>...</td>\n      <td>...</td>\n      <td>...</td>\n      <td>...</td>\n      <td>...</td>\n      <td>...</td>\n      <td>...</td>\n      <td>...</td>\n      <td>...</td>\n      <td>...</td>\n      <td>...</td>\n      <td>...</td>\n      <td>...</td>\n      <td>...</td>\n      <td>...</td>\n    </tr>\n    <tr>\n      <th>226</th>\n      <td>1.0</td>\n      <td>1.0</td>\n      <td>2.0</td>\n      <td>2.0</td>\n      <td>2.0</td>\n      <td>2.0</td>\n      <td>2.0</td>\n      <td>1.0</td>\n      <td>238.433432</td>\n      <td>28.817227</td>\n      <td>...</td>\n      <td>0.500000</td>\n      <td>0.500000</td>\n      <td>0.500000</td>\n      <td>2.080967e-103</td>\n      <td>0.880580</td>\n      <td>0.880580</td>\n      <td>0.870561</td>\n      <td>0.880797</td>\n      <td>1.192029e-01</td>\n      <td>0.0</td>\n    </tr>\n    <tr>\n      <th>227</th>\n      <td>1.0</td>\n      <td>1.0</td>\n      <td>31.0</td>\n      <td>31.0</td>\n      <td>29.0</td>\n      <td>27.0</td>\n      <td>27.0</td>\n      <td>19.0</td>\n      <td>5.410485</td>\n      <td>1.061003</td>\n      <td>...</td>\n      <td>0.880797</td>\n      <td>0.982014</td>\n      <td>0.982014</td>\n      <td>1.000000e+00</td>\n      <td>1.000000</td>\n      <td>1.000000</td>\n      <td>1.000000</td>\n      <td>1.000000</td>\n      <td>3.442477e-14</td>\n      <td>0.0</td>\n    </tr>\n    <tr>\n      <th>228</th>\n      <td>1.0</td>\n      <td>1.0</td>\n      <td>26.0</td>\n      <td>26.0</td>\n      <td>25.0</td>\n      <td>22.0</td>\n      <td>19.0</td>\n      <td>16.0</td>\n      <td>7.578417</td>\n      <td>1.916966</td>\n      <td>...</td>\n      <td>0.731059</td>\n      <td>0.982014</td>\n      <td>0.999089</td>\n      <td>1.000000e+00</td>\n      <td>1.000000</td>\n      <td>1.000000</td>\n      <td>1.000000</td>\n      <td>1.000000</td>\n      <td>5.109089e-12</td>\n      <td>1.0</td>\n    </tr>\n    <tr>\n      <th>229</th>\n      <td>1.0</td>\n      <td>1.0</td>\n      <td>54.0</td>\n      <td>53.0</td>\n      <td>51.0</td>\n      <td>45.0</td>\n      <td>43.0</td>\n      <td>29.0</td>\n      <td>49.958494</td>\n      <td>25.272318</td>\n      <td>...</td>\n      <td>0.952574</td>\n      <td>0.999877</td>\n      <td>0.999983</td>\n      <td>9.827324e-01</td>\n      <td>1.000000</td>\n      <td>1.000000</td>\n      <td>1.000000</td>\n      <td>1.000000</td>\n      <td>3.532629e-24</td>\n      <td>0.0</td>\n    </tr>\n    <tr>\n      <th>230</th>\n      <td>1.0</td>\n      <td>0.0</td>\n      <td>52.0</td>\n      <td>48.0</td>\n      <td>46.0</td>\n      <td>41.0</td>\n      <td>36.0</td>\n      <td>29.0</td>\n      <td>6.922057</td>\n      <td>3.188813</td>\n      <td>...</td>\n      <td>0.997527</td>\n      <td>0.999983</td>\n      <td>1.000000</td>\n      <td>1.000000e+00</td>\n      <td>1.000000</td>\n      <td>1.000000</td>\n      <td>1.000000</td>\n      <td>1.000000</td>\n      <td>7.310586e-01</td>\n      <td>1.0</td>\n    </tr>\n  </tbody>\n</table>\n<p>231 rows × 44 columns</p>\n</div>"
     },
     "execution_count": 11,
     "metadata": {},
     "output_type": "execute_result"
    }
   ],
   "source": [
    "pandas.read_hdf('/home/xiaomeng/jupyter_base/AutoFT/data/generated_dataset/' + f)"
   ],
   "metadata": {
    "collapsed": false,
    "pycharm": {
     "name": "#%%\n"
    }
   }
  },
  {
   "cell_type": "code",
   "execution_count": null,
   "outputs": [],
   "source": [],
   "metadata": {
    "collapsed": false,
    "pycharm": {
     "name": "#%%\n"
    }
   }
  }
 ],
 "metadata": {
  "kernelspec": {
   "display_name": "Python 3",
   "language": "python",
   "name": "python3"
  },
  "language_info": {
   "codemirror_mode": {
    "name": "ipython",
    "version": 2
   },
   "file_extension": ".py",
   "mimetype": "text/x-python",
   "name": "python",
   "nbconvert_exporter": "python",
   "pygments_lexer": "ipython2",
   "version": "2.7.6"
  }
 },
 "nbformat": 4,
 "nbformat_minor": 0
}